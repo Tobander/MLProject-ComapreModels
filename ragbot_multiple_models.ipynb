{
 "cells": [
  {
   "cell_type": "markdown",
   "id": "add25e68",
   "metadata": {},
   "source": [
    "# IMPORT LIBRARIES"
   ]
  },
  {
   "cell_type": "code",
   "execution_count": 55,
   "id": "ca9eacac",
   "metadata": {},
   "outputs": [],
   "source": [
    "from langchain.prompts import ChatPromptTemplate\n",
    "from langchain_core.output_parsers import StrOutputParser\n",
    "from langchain_groq import ChatGroq\n",
    "from langchain_openai.chat_models import ChatOpenAI\n",
    "from langchain_community.llms import Ollama\n",
    "from langchain_openai.embeddings import OpenAIEmbeddings\n",
    "from langchain_community.document_loaders import TextLoader\n",
    "from langchain_community.vectorstores import FAISS\n",
    "import os"
   ]
  },
  {
   "cell_type": "markdown",
   "id": "93240173",
   "metadata": {},
   "source": [
    "# HELPER FUNCTIONS"
   ]
  },
  {
   "cell_type": "code",
   "execution_count": 47,
   "id": "0489a70e",
   "metadata": {},
   "outputs": [],
   "source": [
    "# FUNCTION TO OPEN FILES\n",
    "def open_file(filepath):\n",
    "    with open(filepath, 'r', encoding='utf-8') as infile:\n",
    "        return infile.read()\n",
    "\n",
    "# FUNCTION TO FORMAT CHAT HISTORY\n",
    "def format_history(chat_history):\n",
    "    return \"\\n\".join(f\"FRAGE: {turn['FRAGE']}\\nANTWORT: {turn['ANTWORT']}\" for turn in chat_history)"
   ]
  },
  {
   "cell_type": "markdown",
   "id": "a8383e03",
   "metadata": {},
   "source": [
    "# CREDENTIALS"
   ]
  },
  {
   "cell_type": "code",
   "execution_count": 48,
   "id": "28c9775e",
   "metadata": {},
   "outputs": [],
   "source": [
    "# DEFINE CREDENTIALS\n",
    "groq_api_key = open_file(\"../keys/groq_api.txt\")\n",
    "openai_api_key = open_file(\"../keys/openaiapikey.txt\")"
   ]
  },
  {
   "cell_type": "markdown",
   "id": "d06d2052",
   "metadata": {},
   "source": [
    "# LOAD CONTEXT DOCUMENTS FOR RAG"
   ]
  },
  {
   "cell_type": "code",
   "execution_count": 49,
   "id": "e50706a4",
   "metadata": {},
   "outputs": [],
   "source": [
    "# LOAD ALL FILES FROM FOLDER AND SAVE THEM IN A LIST (documents)\n",
    "def load_and_process_txts(txt_folder_path):\n",
    "    documents = []\n",
    "    for file in os.listdir(txt_folder_path):\n",
    "        if file.endswith('.txt'):\n",
    "            txt_path = os.path.join(txt_folder_path, file)\n",
    "            loader = TextLoader(txt_path)\n",
    "            documents.extend(loader.load())\n",
    "    return documents\n",
    "\n",
    "documents = load_and_process_txts('../txt/')"
   ]
  },
  {
   "cell_type": "markdown",
   "id": "6573823e",
   "metadata": {},
   "source": [
    "# CREATE INDEX AND RETRIEVER"
   ]
  },
  {
   "cell_type": "code",
   "execution_count": 50,
   "id": "ce500730",
   "metadata": {},
   "outputs": [],
   "source": [
    "# FUNCTION TO CREATE INDEX OF DOCUMENTS AND RETRIEVER TO GET THEM\n",
    "def initialize_vectorstore(documents, embeddings):\n",
    "    return FAISS.from_documents(documents, embeddings)\n",
    "\n",
    "vectorstore = initialize_vectorstore(documents, OpenAIEmbeddings(openai_api_key=openai_api_key))\n",
    "retriever = vectorstore.as_retriever()"
   ]
  },
  {
   "cell_type": "markdown",
   "id": "7b8e532f",
   "metadata": {},
   "source": [
    "# CREATE PROMPT"
   ]
  },
  {
   "cell_type": "code",
   "execution_count": 51,
   "id": "ddfc5b1d",
   "metadata": {},
   "outputs": [],
   "source": [
    "# CREATE PROMPT TEMPLATE WITH THREE PARAMETERS (History, Context, Question)\n",
    "template = \"\"\"\n",
    "Beantworte die Frage mit Hilfe des nachfolgenden Kontext und der bisherigen Konversation. \n",
    "Wenn du die Frage mit Hilfe des Kontext oder der bisherigen Konversation nicht beantworten kannst, \n",
    "antworte mit: \"Das weiß ich leider nicht.\"\n",
    "\n",
    "BISHERIGE KONVERSATION:\n",
    "{history}\n",
    "\n",
    "KONTEXT: {context}\n",
    "\n",
    "FRAGE: {question}\n",
    "\"\"\"\n",
    "\n",
    "# CREATE PROMPT WITH TEMPLATE\n",
    "prompt = ChatPromptTemplate.from_template(template)"
   ]
  },
  {
   "cell_type": "markdown",
   "id": "e6fdbc01",
   "metadata": {},
   "source": [
    "# CREATE CHAIN"
   ]
  },
  {
   "cell_type": "code",
   "execution_count": 52,
   "id": "f6cb80dd",
   "metadata": {},
   "outputs": [],
   "source": [
    "# CREATE PARSER\n",
    "parser = StrOutputParser()\n",
    "\n",
    "# VARIABLE TO MAINTAIN CONVERSATION HISTORY\n",
    "chat_history = []\n",
    "\n",
    "# BUILD CHAIN WITH SELECTED MODEL AND HISTORY\n",
    "def build_chain(model_name, chat_history):\n",
    "    \n",
    "    # CHOOSE MODEL\n",
    "    if model_name.startswith(\"gpt\"):\n",
    "        model = ChatOpenAI(api_key=openai_api_key, model=model_name)\n",
    "    elif model_name.startswith(\"llama\"):\n",
    "        model = ChatGroq(model_name=model_name, temperature=0, groq_api_key=groq_api_key)\n",
    "        #model = Ollama(model=\"llama3\")\n",
    "    else:\n",
    "        model = ChatGroq(model_name=model_name, temperature=0, groq_api_key=groq_api_key)\n",
    "    \n",
    "    # BUILD THE CHAIN WITH THESES STEPS\n",
    "    # 1: Use Prompt that has two Parameters: History and Question\n",
    "    # 2: Pass Prompt to selected Model\n",
    "    # 3: Pass Response to OutputParser to create a String\n",
    "    chain = prompt | model | parser\n",
    "    \n",
    "    return chain"
   ]
  },
  {
   "cell_type": "markdown",
   "id": "139a161c",
   "metadata": {},
   "source": [
    "# INVOKE CHAIN"
   ]
  },
  {
   "cell_type": "code",
   "execution_count": 53,
   "id": "8223cb88",
   "metadata": {},
   "outputs": [],
   "source": [
    "# FUNCTION TO INVOKE CHAIN WITH QUESTION AND SELECTED MODEL\n",
    "def get_answer(question, model_name):\n",
    "    \n",
    "    global chat_history\n",
    "    \n",
    "    # Build chain based on the selected model and using the chat history\n",
    "    chain = build_chain(model_name, chat_history)\n",
    "    \n",
    "    # Get relevant Context to Question\n",
    "    context = retriever.invoke(question)\n",
    "    \n",
    "    # Format chat history\n",
    "    formatted_history = format_history(chat_history)\n",
    "    \n",
    "    # Get response for Question, using Context and History\n",
    "    inputs = {\n",
    "        \"context\": context,\n",
    "        \"history\": formatted_history,\n",
    "        \"question\": question\n",
    "    }\n",
    "    \n",
    "    # Invoke the Chain using above Inputs\n",
    "    response = chain.invoke(inputs)\n",
    "    \n",
    "    # Update chat history\n",
    "    chat_history.append({\"FRAGE\": question, \"ANTWORT\": response})\n",
    "    \n",
    "    return response"
   ]
  },
  {
   "cell_type": "code",
   "execution_count": 58,
   "id": "ace2d7f6",
   "metadata": {},
   "outputs": [
    {
     "name": "stdout",
     "output_type": "stream",
     "text": [
      "I see that you're asking a question about dimensionality reduction, specifically about the Principal Component Analysis (PCA) method. However, your question doesn't seem to match with the provided text.\n",
      "\n",
      "To answer your question, PCA is a statistical method used for dimensionality reduction. It's not related to linear regression. If you're looking for information on linear regression, I can provide some general insights:\n",
      "\n",
      "Linear regression is a supervised learning algorithm that predicts a continuous output variable based on one or more input features. The key performance metrics of linear regression include:\n",
      "\n",
      "1. Mean Squared Error (MSE): This measures the average squared difference between predicted and actual values.\n",
      "2. Coefficient of Determination (R-squared): This indicates how well the model fits the data, ranging from 0 (worst fit) to 1 (best fit).\n",
      "3. Root Mean Squared Error (RMSE): This is the square root of MSE, giving an idea of the average distance between predicted and actual values.\n",
      "4. Adjusted R-squared: This takes into account the number of predictors in the model and provides a more conservative estimate of how well the model fits the data.\n",
      "\n",
      "Please let me know if you have any further questions or if there's anything else I can help you with!\n"
     ]
    }
   ],
   "source": [
    "print(get_answer(\"Was sind Kennzahlen linearer Regression?\", \"llama3\"))"
   ]
  },
  {
   "cell_type": "code",
   "execution_count": 42,
   "id": "23b433d3",
   "metadata": {},
   "outputs": [
    {
     "name": "stdout",
     "output_type": "stream",
     "text": [
      "Ja, gerne! Die letzte Kennzahl, die in der bisherigen Konversation erwähnt wurde, ist der **Coefficient of Determination (R²)**. Lassen Sie mich diese Kennzahl genauer erläutern:\n",
      "\n",
      "### Coefficient of Determination (R²)\n",
      "\n",
      "Der Coefficient of Determination, auch bekannt als R²-Wert, ist eine statistische Kennzahl, die die Güte der Anpassung eines Regressionsmodells an die Daten beschreibt. Er gibt an, wie viel der Variabilität der abhängigen Variable (Y) durch die unabhängigen Variablen (X) im Modell erklärt wird.\n",
      "\n",
      "#### Interpretation des R²-Werts:\n",
      "- **R² = 1**: Das Modell erklärt die gesamte Variabilität in den Daten. Dies bedeutet, dass die vorhergesagten Werte perfekt mit den tatsächlichen Werten übereinstimmen.\n",
      "- **R² = 0**: Das Modell erklärt keine der Variabilität in den Daten. Dies bedeutet, dass das Modell nicht besser ist als das naivste Modell, das einfach den Durchschnitt der tatsächlichen Werte vorhersagt.\n",
      "- **0 < R² < 1**: Der Wert gibt den Anteil der erklärten Variabilität an. Beispielsweise bedeutet R² = 0.7, dass 70% der Variabilität der abhängigen Variable durch das Modell erklärt werden.\n",
      "\n",
      "#### Berechnung des R²-Werts:\n",
      "Der R²-Wert berechnet sich wie folgt:\n",
      "\n",
      "\\[ R² = 1 - \\frac{SS_{\\text{res}}}{SS_{\\text{tot}}} \\]\n",
      "\n",
      "Dabei ist:\n",
      "- \\( SS_{\\text{res}} \\) (Residual Sum of Squares): Die Summe der quadrierten Differenzen zwischen den tatsächlichen Werten und den vorhergesagten Werten.\n",
      "- \\( SS_{\\text{tot}} \\) (Total Sum of Squares): Die Summe der quadrierten Differenzen zwischen den tatsächlichen Werten und dem Durchschnitt der tatsächlichen Werte.\n",
      "\n",
      "#### Beispiel:\n",
      "Angenommen, wir haben ein Regressionsmodell, das die Beziehung zwischen den monatlichen Werbeausgaben (X) und den monatlichen Verkäufen (Y) eines Produkts vorhersagt. Wenn das R² des Modells 0.85 beträgt, bedeutet dies, dass 85% der Variabilität der monatlichen Verkäufe durch die Werbeausgaben erklärt werden können. Die restlichen 15% der Variabilität werden durch andere Faktoren erklärt, die nicht im Modell enthalten sind.\n",
      "\n",
      "Der R²-Wert ist eine nützliche Kennzahl, um die Leistung eines Regressionsmodells zu bewerten und zu verstehen, wie gut das Modell die Daten erklärt.\n"
     ]
    }
   ],
   "source": [
    "print(get_answer(\"Kannst du mir die letzte Kennzahl genauer erklären bitte?\", \"gpt-4o\"))"
   ]
  },
  {
   "cell_type": "code",
   "execution_count": 44,
   "id": "71928684",
   "metadata": {},
   "outputs": [
    {
     "name": "stdout",
     "output_type": "stream",
     "text": [
      "Der Kurs \"BUSINESS DATA ANALYST*in (IHK)\" behandelt eine Vielzahl von Themen, die in den folgenden Kapiteln gegliedert sind:\n",
      "\n",
      "### I. Grundlagen des Machine Learning\n",
      "1. **Einführung in verantwortungsvolles Arbeiten mit Daten und Machine Learning**\n",
      "   - Die Realität von Machine Learning\n",
      "   - Fallstudie: Der COMPAS-Algorithmus\n",
      "   - Zieldefinition und Qualitätsmessung in Machine Learning\n",
      "   - Erfolgskriterien und Diskriminierung in Machine Learning\n",
      "2. **Grundlagen der Statistik für Machine Learning**\n",
      "   - Einführungen in statistische Grundlagen\n",
      "   - Statistische Maßzahlen\n",
      "   - Inferenzstatistik\n",
      "   - Unterschied zwischen Korrelation und Kausalität\n",
      "   - Datenvisualisierung\n",
      "3. **Data Preprocessing – Der unsichtbare Held der Datenanalyse**\n",
      "   - Methoden des Machine-Learning\n",
      "   - Datenarten des Machine-Learning\n",
      "   - Herausforderungen der Daten-Vorverarbeitung\n",
      "   - Splitten von Daten für effektives Machine Learning\n",
      "4. **Regression – Vorhersage und Verständnis von Zusammenhängen**\n",
      "   - Einführung in die lineare Regression\n",
      "   - Multivariate lineare Regression\n",
      "   - Bewertung von linearen Regressionsmodellen\n",
      "5. **Einführung in die logistische Regression**\n",
      "   - Unterschied zwischen logistischer und linearer Regression\n",
      "   - Modellierung und Schwellenwert\n",
      "   - Hyperparameter in der logistischen Regression\n",
      "6. **Entscheidungsbäume – Ein visueller Ansatz zum maschinellen Lernen**\n",
      "   - Grundprinzipien der Entscheidungsbäume\n",
      "   - Einführung in Ensemble Learning\n",
      "   - Decision Forests\n",
      "7. **Umgang mit Imbalanced Data**\n",
      "   - Definition und Herausforderungen von Imbalanced Data\n",
      "   - Methoden zur Behandlung von Imbalanced Data\n",
      "   - Praktische Anwendung von SMOTE\n",
      "8. **Feature Selection – Auswahl der richtigen Variablen**\n",
      "   - Das Problem zu vieler Features\n",
      "   - Vorteile der Feature Selection\n",
      "   - Methoden der Feature Selection\n",
      "9. **Hyperparameter Tuning**\n",
      "   - Parameter versus Hyperparameter\n",
      "   - Methoden des Parameter Tuning\n",
      "10. **Dimensionality Reduction**\n",
      "    - Prinzipal-Komponenten-Analyse (PCA)\n",
      "11. **Outlier Detection – Erkennen von Ausreißern**\n",
      "    - Definition und Bedeutung von Ausreißern\n",
      "    - Ursachen und Typen von Ausreißern\n",
      "12. **Grundlagen der Neuronalen Netze**\n",
      "    - Struktur und Funktionsweise\n",
      "    - Spezialisierte Arten von Neuronalen Netzen\n",
      "13. **Convolutional Neural Networks (CNNs)**\n",
      "    - Funktionsweise und Anwendungsbereiche\n",
      "14. **Recurrent Neural Networks (RNNs)**\n",
      "    - Funktionsprinzip und Anwendungen\n",
      "15. **Large Language Models (LLMs) - Transformers**\n",
      "    - Technische Grundlagen und Einsatzgebiete\n",
      "\n",
      "### II. Programmieren mit Python und Visualisierungen\n",
      "16. **Erste Schritte mit Python**\n",
      "    - Lokale Installation und Ausführung\n",
      "    - Rechenoperationen mit Python in einem Jupyter Notebook\n",
      "    - Lösen von mehrstufigen Problemen mit Variablen\n",
      "    - Auswerten von Bedingungen mit Python\n",
      "    - Textformatierungen mit Markdown\n",
      "17. **Variablen und Datentypen in Python**\n",
      "    - Speichern von Informationen mithilfe von Variablen\n",
      "    - Eingebaute Datentypen in Python\n",
      "18. **Prompt Engineering**\n",
      "    - Grundlagen und Elemente eines effektiven Prompts\n",
      "    - Anpassung und Herausforderungen im Prompt Engineering\n",
      "\n",
      "Diese Themen bieten eine umfassende Ausbildung in den Bereichen Machine Learning, Datenanalyse und Programmierung.\n"
     ]
    }
   ],
   "source": [
    "print(get_answer(\"Super, was sind die Inhalte des Kurses?\", \"gpt-4o\"))"
   ]
  },
  {
   "cell_type": "code",
   "execution_count": 45,
   "id": "22785a7a",
   "metadata": {},
   "outputs": [
    {
     "name": "stdout",
     "output_type": "stream",
     "text": [
      "Ja, gerne! Kapitel 7 des Kurses \"BUSINESS DATA ANALYST*in (IHK)\" behandelt den Umgang mit **Imbalanced Data**. Hier sind die Details zu diesem Kapitel:\n",
      "\n",
      "### 7. Umgang mit Imbalanced Data\n",
      "1. **Einführung in Imbalanced Data**\n",
      "   - **Definition und Herausforderungen**: In diesem Abschnitt wird erklärt, was Imbalanced Data ist und welche Herausforderungen sie für Machine Learning Modelle darstellt. Imbalanced Data bedeutet, dass die Klassenverteilung in einem Datensatz stark unausgeglichen ist, z.B. wenn es viel mehr negative als positive Beispiele gibt.\n",
      "\n",
      "2. **Methoden zur Behandlung von Imbalanced Data**\n",
      "   - **Resampling Techniken**: Hier werden Techniken wie **Oversampling** und **Undersampling** vorgestellt, die dazu dienen, die Klassenverteilung auszugleichen.\n",
      "   - **Resampling Beispiel**: Ein praktisches Beispiel, das zeigt, wie Resampling Techniken implementiert werden können, um die Balance in den Daten wiederherzustellen.\n",
      "   - **Synthetische Datengenerierung**: Einführung in Methoden wie **SMOTE (Synthetic Minority Over-sampling Technique)**, die synthetische Datenpunkte erzeugen, um die Minderheitsklasse zu verstärken.\n",
      "\n",
      "3. **Praktische Anwendung von SMOTE**\n",
      "   - **Visuelle Darstellung und Beispiel**: Eine anschauliche Darstellung und ein Beispiel zur Anwendung von SMOTE, um zu zeigen, wie synthetische Datenpunkte generiert und in den Datensatz integriert werden.\n",
      "   - **SMOTE Parameter**: Erklärung der verschiedenen Parameter, die bei der Anwendung von SMOTE konfiguriert werden können, um die besten Ergebnisse zu erzielen.\n",
      "\n",
      "4. **Zusammenfassung**\n",
      "   - Eine Zusammenfassung der wichtigsten Konzepte und Techniken zur Behandlung von Imbalanced Data.\n",
      "\n",
      "Dieses Kapitel bietet einen umfassenden Überblick über die Herausforderungen und Lösungen im Umgang mit unausgewogenen Datensätzen, die in vielen realen Machine Learning Anwendungen auftreten.\n"
     ]
    }
   ],
   "source": [
    "print(get_answer(\"Kannst du mir Details zu den Inhalten von 7. geben?\", \"gpt-4o\"))"
   ]
  },
  {
   "cell_type": "code",
   "execution_count": null,
   "id": "09660327",
   "metadata": {},
   "outputs": [],
   "source": []
  }
 ],
 "metadata": {
  "kernelspec": {
   "display_name": "Python 3 (ipykernel)",
   "language": "python",
   "name": "python3"
  },
  "language_info": {
   "codemirror_mode": {
    "name": "ipython",
    "version": 3
   },
   "file_extension": ".py",
   "mimetype": "text/x-python",
   "name": "python",
   "nbconvert_exporter": "python",
   "pygments_lexer": "ipython3",
   "version": "3.11.7"
  }
 },
 "nbformat": 4,
 "nbformat_minor": 5
}
